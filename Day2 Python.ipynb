{
 "cells": [
  {
   "cell_type": "code",
   "execution_count": null,
   "id": "3623adbf",
   "metadata": {},
   "outputs": [],
   "source": [
    "st = 'Print only the words that start with s in this sentence'\n",
    "list = [st.split]"
   ]
  },
  {
   "cell_type": "code",
   "execution_count": null,
   "id": "08e91d50",
   "metadata": {},
   "outputs": [],
   "source": [
    "print(i for i in list)"
   ]
  },
  {
   "cell_type": "code",
   "execution_count": null,
   "id": "df657989",
   "metadata": {},
   "outputs": [],
   "source": [
    "numbered_list = [1,2,3,4,5,6,7,8,9,10]"
   ]
  },
  {
   "cell_type": "code",
   "execution_count": null,
   "id": "787dae6e",
   "metadata": {},
   "outputs": [],
   "source": [
    "new_list = [num for num in numbered_list]"
   ]
  },
  {
   "cell_type": "code",
   "execution_count": null,
   "id": "4e099d5d",
   "metadata": {},
   "outputs": [],
   "source": [
    "print(new_list)"
   ]
  },
  {
   "cell_type": "code",
   "execution_count": null,
   "id": "d38d0d37",
   "metadata": {},
   "outputs": [],
   "source": [
    "sum = 0\n",
    "for num in new_list:\n",
    "    sum += num\n",
    "    print(sum)"
   ]
  },
  {
   "cell_type": "code",
   "execution_count": null,
   "id": "aa9a2665",
   "metadata": {},
   "outputs": [],
   "source": [
    "num"
   ]
  },
  {
   "cell_type": "code",
   "execution_count": null,
   "id": "b714290f",
   "metadata": {},
   "outputs": [],
   "source": [
    "numbered_list_tups = [(1,2),(3,4),(5,6),(7,8),(9,10)]\n",
    "for num in numbered_list_tups:\n",
    "    print(num)"
   ]
  },
  {
   "cell_type": "code",
   "execution_count": null,
   "id": "952fe727",
   "metadata": {},
   "outputs": [],
   "source": [
    "for t1,t2 in numbered_list_tups:\n",
    "    print(t1)"
   ]
  },
  {
   "cell_type": "code",
   "execution_count": null,
   "id": "f9939099",
   "metadata": {},
   "outputs": [],
   "source": [
    "for num in range(10,20):     #to iterate between 10 to 20\n",
    "   for i in range(2,num):    #to iterate on the factors of the number\n",
    "      if num%i == 0:         #to determine the first factor\n",
    "         j=num/i             #to calculate the second factor\n",
    "         print(f'{num} equals {i} * {j}')\n",
    "         break #to move to the next number, the #first FOR\n",
    "   else:                  # else part of the loop\n",
    "      print(num, 'is a prime number')\n"
   ]
  },
  {
   "cell_type": "code",
   "execution_count": null,
   "id": "7befab45",
   "metadata": {},
   "outputs": [],
   "source": [
    "x=20\n",
    "while x > 10:\n",
    "    print(f'{x} is bigger then ten')\n",
    "    x -= 1\n",
    "else:\n",
    "    print('all done ten')"
   ]
  },
  {
   "cell_type": "code",
   "execution_count": null,
   "id": "01aa2d79",
   "metadata": {},
   "outputs": [],
   "source": [
    "st = 'Print only the words that start with s in this sentence'\n",
    "new_var = st.split(' ')\n",
    "for i in new_var:\n",
    "    if i[0] == 's':\n",
    "        print(i)"
   ]
  },
  {
   "cell_type": "code",
   "execution_count": null,
   "id": "0d78e452",
   "metadata": {},
   "outputs": [],
   "source": [
    "range(0,10)"
   ]
  },
  {
   "cell_type": "code",
   "execution_count": null,
   "id": "afc156b7",
   "metadata": {},
   "outputs": [],
   "source": [
    "range(0,10)"
   ]
  },
  {
   "cell_type": "code",
   "execution_count": null,
   "id": "a8d9f613",
   "metadata": {},
   "outputs": [],
   "source": [
    "List = range(0,101,10)"
   ]
  },
  {
   "cell_type": "code",
   "execution_count": null,
   "id": "a36a76f0",
   "metadata": {},
   "outputs": [],
   "source": [
    "List"
   ]
  },
  {
   "cell_type": "code",
   "execution_count": null,
   "id": "a0e8d0a3",
   "metadata": {},
   "outputs": [],
   "source": [
    "x = range(3, 6)\n",
    "for n in x:\n",
    "  print(n)"
   ]
  },
  {
   "cell_type": "code",
   "execution_count": null,
   "id": "89e3fb2c",
   "metadata": {},
   "outputs": [],
   "source": [
    "x = range(6)\n",
    "for n in x:\n",
    "    print(n)"
   ]
  },
  {
   "cell_type": "code",
   "execution_count": null,
   "id": "250491d0",
   "metadata": {},
   "outputs": [],
   "source": [
    "newList = [*range(6)]"
   ]
  },
  {
   "cell_type": "code",
   "execution_count": null,
   "id": "f85a3394",
   "metadata": {},
   "outputs": [],
   "source": [
    "newList"
   ]
  },
  {
   "cell_type": "code",
   "execution_count": null,
   "id": "30ee2f47",
   "metadata": {},
   "outputs": [],
   "source": [
    "lst = [x for x in 'talaz']"
   ]
  },
  {
   "cell_type": "code",
   "execution_count": null,
   "id": "b76f92af",
   "metadata": {},
   "outputs": [],
   "source": [
    "lst"
   ]
  },
  {
   "cell_type": "code",
   "execution_count": null,
   "id": "16334aff",
   "metadata": {},
   "outputs": [],
   "source": [
    "lst = [ x**2 for x in [x**2 for x in range(24)]]\n",
    "lst"
   ]
  },
  {
   "cell_type": "code",
   "execution_count": null,
   "id": "799faf07",
   "metadata": {},
   "outputs": [],
   "source": [
    "for i,letter in enumerate('abfeadac'):\n",
    "    print(\"at index {} the letter is {}\".format(i,letter))\n",
    "    "
   ]
  },
  {
   "cell_type": "code",
   "execution_count": null,
   "id": "8d1f509c",
   "metadata": {},
   "outputs": [],
   "source": [
    "for i,letter in enumerate('abcde'):\n",
    "    print(\"At index {} the letter is {}\".format(i,letter))"
   ]
  },
  {
   "cell_type": "code",
   "execution_count": null,
   "id": "18ce6647",
   "metadata": {},
   "outputs": [],
   "source": [
    "abc = [*enumerate('abcde')]\n"
   ]
  },
  {
   "cell_type": "code",
   "execution_count": null,
   "id": "9a371e6e",
   "metadata": {},
   "outputs": [],
   "source": [
    "for i,a in abc:\n",
    "    print(i,a)"
   ]
  },
  {
   "cell_type": "code",
   "execution_count": null,
   "id": "640fe687",
   "metadata": {},
   "outputs": [],
   "source": [
    "abc = range(0,10)\n",
    "print(*abc)"
   ]
  },
  {
   "cell_type": "code",
   "execution_count": null,
   "id": "61a584df",
   "metadata": {},
   "outputs": [],
   "source": [
    "abc = range(1,51)\n",
    "bca = [i for i in abc if i % 3 == 0] \n",
    "print(bca)"
   ]
  },
  {
   "cell_type": "code",
   "execution_count": null,
   "id": "dae9d89d",
   "metadata": {},
   "outputs": [],
   "source": [
    "bda = []\n",
    "for i in abc:\n",
    "    if i % 3 == 0:\n",
    "        bda.append(i)"
   ]
  },
  {
   "cell_type": "code",
   "execution_count": null,
   "id": "fd842ae1",
   "metadata": {},
   "outputs": [],
   "source": [
    "bda"
   ]
  },
  {
   "cell_type": "code",
   "execution_count": null,
   "id": "0d44b0ce",
   "metadata": {},
   "outputs": [],
   "source": [
    "st = 'Print every word in this sentence that has an even number of letters'\n",
    "abc = st.split(' ')\n",
    "for i in abc:\n",
    "    if len(i) % 2 == 0:\n",
    "        print(f'{i} is even!')\n",
    "    else:\n",
    "        print(f'{i} is not even!')"
   ]
  },
  {
   "cell_type": "code",
   "execution_count": null,
   "id": "1929ae39",
   "metadata": {},
   "outputs": [],
   "source": [
    "    if len(i) % 2 == 0:\n",
    "        print(f'{i} is even!')\n",
    "    else:\n",
    "        print(i)"
   ]
  },
  {
   "cell_type": "code",
   "execution_count": null,
   "id": "56543b07",
   "metadata": {},
   "outputs": [],
   "source": [
    "abc = range(0,101)\n",
    "for i in abc:\n",
    "    if i % 5 == 0 and i % 3 == 0:\n",
    "        print('FizzBuzz')\n",
    "        \n",
    "    elif i % 3 == 0:\n",
    "        print('Fizz')\n",
    "        \n",
    "    elif i % 5 == 0:\n",
    "        print('Buzz')\n",
    "    else:\n",
    "        print(i)"
   ]
  },
  {
   "cell_type": "code",
   "execution_count": null,
   "id": "5a012ebb",
   "metadata": {},
   "outputs": [],
   "source": [
    "st = 'Create a list of the first letters of every word in this string'\n",
    "st = st.split(' ')\n",
    "pt = ''\n",
    "for i in st:\n",
    "    pt += i[0]\n",
    "    print(pt)"
   ]
  },
  {
   "cell_type": "code",
   "execution_count": 167,
   "id": "e81f2ed4",
   "metadata": {},
   "outputs": [
    {
     "name": "stdout",
     "output_type": "stream",
     "text": [
      "C:\\Users\\sainencoa\n"
     ]
    }
   ],
   "source": [
    "cd\n"
   ]
  },
  {
   "cell_type": "code",
   "execution_count": null,
   "id": "d7e41a17",
   "metadata": {},
   "outputs": [],
   "source": []
  }
 ],
 "metadata": {
  "kernelspec": {
   "display_name": "Python 3 (ipykernel)",
   "language": "python",
   "name": "python3"
  },
  "language_info": {
   "codemirror_mode": {
    "name": "ipython",
    "version": 3
   },
   "file_extension": ".py",
   "mimetype": "text/x-python",
   "name": "python",
   "nbconvert_exporter": "python",
   "pygments_lexer": "ipython3",
   "version": "3.9.7"
  }
 },
 "nbformat": 4,
 "nbformat_minor": 5
}
